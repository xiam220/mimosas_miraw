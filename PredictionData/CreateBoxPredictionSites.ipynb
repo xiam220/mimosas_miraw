{
 "cells": [
  {
   "cell_type": "code",
   "execution_count": null,
   "id": "a8b925d0",
   "metadata": {},
   "outputs": [],
   "source": [
    "import pandas as pd\n",
    "import numpy as np\n",
    "import re"
   ]
  },
  {
   "cell_type": "code",
   "execution_count": null,
   "id": "df0bd651",
   "metadata": {},
   "outputs": [],
   "source": [
    "def reformattingPCCR():\n",
    "    ## RNA Bridges and Exon Loopouts\n",
    "    rna_bridges = pd.read_csv(\"Pervouchine2021_SuppData/Pervouchine2021_SuppData3_RNABridges.txt\", sep=\"\\t\")\n",
    "    exon_loopouts = pd.read_csv(\"Pervouchine2021_SuppData/Pervouchine2021_SuppData4_ExonLoopouts.tsv\", sep=\"\\t\")\n",
    "    pccr = pd.concat([rna_bridges, exon_loopouts], axis=0, ignore_index=True)\n",
    "    pccr = pccr[[\"ph\", \"exon\"]]\n",
    "#     print(pccr)\n",
    "    \n",
    "    pccr[\"ph_chr\"] = pccr[\"ph\"].str.extract(r\"((?<=chr)\\d+)\")\n",
    "    pccr[\"ph_start\"] = pccr[\"ph\"].str.extract(r\"((?<=_)\\d+(?=_\\d))\").astype(int)\n",
    "    pccr[\"ph_end\"] = pccr[\"ph\"].str.extract(r\"((?<=\\d_)\\d+(?=_\\W))\").astype(int)\n",
    "    pccr[\"ph_strand\"] = pccr[\"ph\"].str.extract(r\"(\\+|-)\")\n",
    "    \n",
    "    pccr[\"exon_chr\"] = pccr[\"exon\"].str.extract(r\"((?<=chr)\\d+)\")\n",
    "    pccr[\"exon_start\"] = pccr[\"exon\"].str.extract(r\"((?<=_)\\d+(?=_\\d))\").astype(int)\n",
    "    pccr[\"exon_end\"] = pccr[\"exon\"].str.extract(r\"((?<=\\d_)\\d+(?=_\\W))\").astype(int)\n",
    "    pccr[\"exon_strand\"] = pccr[\"exon\"].str.extract(r\"(\\+|-)\")\n",
    "    \n",
    "    pccr = pccr.drop_duplicates()\n",
    "    pccr = pccr.dropna()\n",
    "    pccr[\"strand\"] = np.where(pccr[\"exon_strand\"]==\"-\",-1, 1)\n",
    "    \n",
    "#     pccr.to_csv(\"Pervouchine2021_pccrFull.txt\", sep=\"\\t\")\n",
    "    \n",
    "    \n",
    "    print(\"max pccr length: \", (pccr[\"ph_end\"].astype(int)-pccr[\"ph_start\"].astype(int)).abs().max())\n",
    "    print(\"min pccr length: \", (pccr[\"ph_end\"].astype(int)-pccr[\"ph_start\"].astype(int)).abs().min())\n",
    "    print(\"max exon length: \", (pccr[\"exon_end\"].astype(int)-pccr[\"exon_start\"].astype(int)).abs().max())\n",
    "    print(\"min exon length: \", (pccr[\"exon_end\"].astype(int)-pccr[\"exon_start\"].astype(int)).abs().min())\n"
   ]
  },
  {
   "cell_type": "code",
   "execution_count": null,
   "id": "4ebed002",
   "metadata": {
    "scrolled": true
   },
   "outputs": [],
   "source": [
    "# reformattingPCCR()"
   ]
  },
  {
   "cell_type": "code",
   "execution_count": null,
   "id": "3aa3da0e",
   "metadata": {},
   "outputs": [],
   "source": [
    "import requests, sys"
   ]
  },
  {
   "cell_type": "code",
   "execution_count": null,
   "id": "8150c560",
   "metadata": {},
   "outputs": [],
   "source": [
    "def getEnsemblSeqsByCoords(coordinate):\n",
    "    server = \"https://grch37.rest.ensembl.org\"\n",
    "    ext = f\"/sequence/region/human/{coordinate}?\"\n",
    "\n",
    "    r = requests.get(server+ext, headers={ \"Content-Type\" : \"text/plain\"})\n",
    "\n",
    "    if not r.ok:\n",
    "      r.raise_for_status()\n",
    "      sys.exit()\n",
    "\n",
    "\n",
    "    return(r.text)"
   ]
  },
  {
   "cell_type": "code",
   "execution_count": null,
   "id": "1bcd542d",
   "metadata": {},
   "outputs": [],
   "source": [
    "def createEnsemblFormatCoord(window, chromosome, start, strand):\n",
    "    return str(chromosome)+\":\"+str(start)+\"-\"+str(start+window-1)+\":\"+str(strand)"
   ]
  },
  {
   "cell_type": "code",
   "execution_count": null,
   "id": "953a0796",
   "metadata": {},
   "outputs": [],
   "source": [
    "def slidingWindow(chromosome, startCoord, endCoord, strand):\n",
    "    window = 40\n",
    "    \n",
    "    coordinates = []\n",
    "    for idx in range(startCoord, endCoord-window+2):\n",
    "        ensembl_coord = createEnsemblFormatCoord(window, chromosome, startCoord, strand)\n",
    "        coordinates.append(ensembl_coord)\n",
    "        \n",
    "    return coordinates\n",
    "        "
   ]
  },
  {
   "cell_type": "code",
   "execution_count": null,
   "id": "edafcf2d",
   "metadata": {},
   "outputs": [],
   "source": [
    "def getTentativeBoxes():\n",
    "    pccr = pd.read_csv(\"Pervouchine2021_pccrFull.txt\", sep=\"\\t\")\n",
    "    pccr_short = pccr[(pccr[\"ph_end\"]-pccr[\"ph_start\"]) <= 40]\n",
    "    pccr_long = pccr[(pccr[\"ph_end\"]-pccr[\"ph_start\"]) > 40]\n",
    "    print(pccr.shape, pccr_short.shape, pccr_long.shape)\n",
    "    print(pccr_short)\n",
    "    \n",
    "    tentative_coords = []\n",
    "    for idx, pccr_row in pccr_long.iterrows():\n",
    "        coords = slidingWindow(pccr_row[\"ph_chr\"], pccr_row[\"ph_start\"], \n",
    "                               pccr_row[\"ph_end\"], pccr_row[\"strand\"])\n",
    "        tentative_coords.extend(coords)\n",
    "\n",
    "    for idx, pccr_short_row in pccr_short.iterrows():\n",
    "        coord_short = str(pccr_short_row[\"ph_chr\"])+\":\"+str(pccr_short_row[\"ph_start\"])+\"-\"+str(pccr_short_row[\"ph_end\"])+\":\"+str(pccr_short_row[\"strand\"])\n",
    "\n",
    "        tentative_coords.append(coord_short)\n",
    "        \n",
    "        \n",
    "    tentative_boxes = pd.DataFrame()\n",
    "    tentative_boxes[\"ensembl_coordinate\"] = tentative_coords \n",
    "    tentative_boxes.to_csv(\"tentative_boxes.txt\", sep=\"\\t\")\n",
    "    "
   ]
  },
  {
   "cell_type": "code",
   "execution_count": null,
   "id": "79eac092",
   "metadata": {},
   "outputs": [],
   "source": [
    "getTentativeBoxes()"
   ]
  },
  {
   "cell_type": "code",
   "execution_count": null,
   "id": "13e8ceec",
   "metadata": {},
   "outputs": [],
   "source": [
    "def getSequencesByChr():\n",
    "#     pccr = pd.read_csv(\"Pervouchine2021_pccrFull.txt\", sep=\"\\t\")\n",
    "    box_coords = pd.read_csv(\"tentative_boxes.txt\", sep=\"\\t\")\n",
    "    box_coords[\"chr\"] = box_coords[\"ensembl_coordinate\"].str.extract(r\"(\\d+)\")\n",
    "    for chromosome in box_coords[\"chr\"].unique():\n",
    "        chr_coords = box_coords[box_coords[\"chr\"].astype(int)==8]\n",
    "        chr_coords[\"sequence\"] = chr_coords[\"ensembl_coordinate\"].map(getEnsemblSeqsByCoords)\n",
    "        chr_coords.to_csv(r\"pccr_chr8.txt\", sep=\"\\t\")\n",
    "        break"
   ]
  },
  {
   "cell_type": "code",
   "execution_count": null,
   "id": "676285c7",
   "metadata": {},
   "outputs": [],
   "source": [
    "getSequencesByChr()"
   ]
  },
  {
   "cell_type": "code",
   "execution_count": null,
   "id": "69b38eea",
   "metadata": {},
   "outputs": [],
   "source": []
  }
 ],
 "metadata": {
  "kernelspec": {
   "display_name": "Python 3 (ipykernel)",
   "language": "python",
   "name": "python3"
  },
  "language_info": {
   "codemirror_mode": {
    "name": "ipython",
    "version": 3
   },
   "file_extension": ".py",
   "mimetype": "text/x-python",
   "name": "python",
   "nbconvert_exporter": "python",
   "pygments_lexer": "ipython3",
   "version": "3.9.12"
  }
 },
 "nbformat": 4,
 "nbformat_minor": 5
}
