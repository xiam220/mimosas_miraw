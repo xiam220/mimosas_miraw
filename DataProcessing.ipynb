{
 "cells": [
  {
   "cell_type": "code",
   "execution_count": 1,
   "id": "8d8a13e1",
   "metadata": {},
   "outputs": [],
   "source": [
    "import pandas as pd\n",
    "import numpy as np"
   ]
  },
  {
   "cell_type": "code",
   "execution_count": null,
   "id": "0506367e",
   "metadata": {},
   "outputs": [],
   "source": [
    "def collectCDSRegions():\n",
    "    clash = pd.read_csv(\"../CLASH-mmc1.txt\", sep=\"\\s+\", comment=\"#\")\n",
    "    clash = clash[[\"microRNA_name\", \"miRNA_seq\", \"mRNA_name\", \"mRNA_seq_extended\", \"seed_type\", \"5'UTR\", \"CDS\", \"3'UTR\"]]\n",
    "    \n",
    "    clash = clash.dropna(axis=0, subset=[\"CDS\"])\n",
    "    clash = clash[~(clash[\"5'UTR\"]==1.0)]\n",
    "    clash = clash[~(clash[\"3'UTR\"]==1.0)]\n",
    "    print(clash.seed_type.value_counts())\n",
    "    clash = clash.drop([\"5'UTR\", \"CDS\", \"3'UTR\"], axis=1)\n",
    "    \n",
    "    \"\"\"Get MIMAT id and seed family\"\"\"\n",
    "    clash[\"mimat_name\"] = clash[\"microRNA_name\"].str.extract(r\"(MIMAT\\d*)\")\n",
    "    clash[\"seed_family\"] = clash[\"microRNA_name\"].str.extract(r\"((?<=MirBase_).*(?=_))\")    \n",
    "    \n",
    "    \n",
    "    clash.to_csv(\"CLASH-cdsOnly.txt\", sep=\"\\t\", index=False)"
   ]
  },
  {
   "cell_type": "code",
   "execution_count": 2,
   "id": "078140b3",
   "metadata": {
    "scrolled": true
   },
   "outputs": [],
   "source": [
    "# collectCDSRegions()"
   ]
  },
  {
   "cell_type": "code",
   "execution_count": 3,
   "id": "b0563cad",
   "metadata": {},
   "outputs": [],
   "source": [
    "import random"
   ]
  },
  {
   "cell_type": "code",
   "execution_count": 22,
   "id": "fddf2163",
   "metadata": {},
   "outputs": [],
   "source": [
    "def mismatchCLASHSequences():\n",
    "    \"\"\"Mismatch miRNA-mRNA pairs such that the new miRNA match is not from the same seed family as the original\"\"\"\n",
    "    \"\"\"Also use miRBase miRNA\"\"\"\n",
    "    \n",
    "    clash = pd.read_csv(\"CLASH-cdsOnly.txt\", sep=\"\\t\")\n",
    "    clash[\"miRNA_seq\"] = clash[\"miRNA_seq\"].str.replace(\"T\", \"U\")\n",
    "    clash[\"mRNA_seq_extended\"] = clash[\"mRNA_seq_extended\"].str.replace(\"T\", \"U\")\n",
    "    \n",
    "    mirbase = pd.read_csv(\"../mirbase_v22.1_seqs.txt\", sep=\"\\t\")\n",
    "    mirbase = mirbase[[\"mimat_name\", \"mirna_seq\"]]\n",
    "    print(mirbase.shape)\n",
    "\n",
    "    clash_mirbase = clash.merge(mirbase, how=\"inner\", on=\"mimat_name\")\n",
    "    pos_dataset = clash_mirbase[[\"mimat_name\", \"seed_family\", \"mirna_seq\", \"mRNA_seq_extended\"]].copy()\n",
    "    pos_dataset[\"classLabel\"] = 1\n",
    "#     pos_dataset.to_csv(\"positive_dataset.txt\", sep=\"\\t\", index=False)\n",
    "    \n",
    "    \"\"\"Create dictionary mirna_seq:mimat_name, mimat_name:seed_family\"\"\"\n",
    "#     seq_features = pos_dataset.drop_duplicates(subset=[\"mimat_name\", \"mirna_seq\"])\n",
    "#     seq_features = seq_features[[\"mimat_name\", \"seed_family\", \"mirna_seq\"]]\n",
    "#     print(clash_mirbase.mimat_name.value_counts())\n",
    "#     mimat_to_seq = {k:v for k, v in zip(seq_features[\"mimat_name\"].tolist(), seq_features[\"mirna_seq\"].tolist())}\n",
    "    \n",
    "    \"\"\"Mismatch binding pairs\"\"\"\n",
    "    pos_dataset = pd.read_csv(\"positive_dataset.txt\", sep=\"\\t\")\n",
    "    neg_dataset = pd.read_csv(\"positive_dataset.txt\", sep=\"\\t\")\n",
    "    neg_dataset[\"original_mirna_seq\"] = pos_dataset[\"mirna_seq\"].copy()\n",
    "    neg_dataset[\"original_mimat_name\"] = pos_dataset[\"mimat_name\"].copy()\n",
    "    neg_dataset[\"original_seed_family\"] = pos_dataset[\"seed_family\"].copy()\n",
    "    \n",
    "#     print(neg_dataset)\n",
    "#     print((pos_dataset[\"mRNA_seq_extended\"]==neg_dataset[\"mRNA_seq_extended\"]).all())\n",
    "    for idx, row in neg_dataset.iterrows():\n",
    "        random_idx = random.randrange(0, neg_dataset.shape[0])\n",
    "        pos_pair = pos_dataset[pos_dataset[\"mRNA_seq_extended\"]==row[\"mRNA_seq_extended\"]]\n",
    "#         print(random_idx, neg_dataset.iloc[random_idx][\"original_seed_family\"])\n",
    "#         print(row[\"seed_family\"])\n",
    "#         while (neg_dataset.iloc[random_idx][\"seed_family\"]==row[\"seed_family\"]) or \n",
    "        while (neg_dataset.iloc[random_idx][\"original_seed_family\"] in pos_pair[\"seed_family\"].tolist()) or (neg_dataset.iloc[random_idx][\"original_mirna_seq\"] in pos_pair[\"mirna_seq\"].tolist()):\n",
    "            random_idx = random.randrange(0, neg_dataset.shape[0])\n",
    "           \n",
    "        tmp_seq = row[\"mirna_seq\"]\n",
    "        tmp_seed = row[\"seed_family\"]\n",
    "        tmp_mimat = row[\"mimat_name\"]\n",
    "\n",
    "#         neg_dataset.at[idx, \"mirna_seq\"] = mimat_to_seq[neg_dataset.iloc[random_idx][\"original_mimat_name\"]]\n",
    "        neg_dataset.at[idx, \"mirna_seq\"] = neg_dataset.iloc[random_idx][\"original_mirna_seq\"]\n",
    "        neg_dataset.at[idx, \"seed_family\"] = neg_dataset.iloc[random_idx][\"original_seed_family\"]\n",
    "        neg_dataset.at[idx, \"mimat_name\"] = neg_dataset.iloc[random_idx][\"original_mimat_name\"]\n",
    "           \n",
    "        neg_dataset.at[random_idx, \"mirna_seq\"] = tmp_seq\n",
    "        neg_dataset.at[random_idx, \"seed_family\"] = tmp_seed\n",
    "        neg_dataset.at[random_idx, \"mimat_name\"] = tmp_mimat\n",
    "        \n",
    "#         break\n",
    "    \"\"\"Match up mirna_seq with their corresponding mimat_name and seed_family\"\"\"\n",
    "    neg_dataset = neg_dataset[[\"mimat_name\", \"seed_family\", \"mirna_seq\", \"mRNA_seq_extended\"]]\n",
    "    neg_dataset[\"classLabel\"] = 0\n",
    "    \n",
    "    neg_dataset.to_csv(\"negative_dataset.txt\", sep=\"\\t\", index=False)"
   ]
  },
  {
   "cell_type": "code",
   "execution_count": 23,
   "id": "8c63ef80",
   "metadata": {
    "scrolled": true
   },
   "outputs": [
    {
     "name": "stdout",
     "output_type": "stream",
     "text": [
      "(2656, 2)\n"
     ]
    }
   ],
   "source": [
    "mismatchCLASHSequences()"
   ]
  },
  {
   "cell_type": "code",
   "execution_count": 24,
   "id": "8ac0683f",
   "metadata": {},
   "outputs": [],
   "source": [
    "def checkNegDataset():\n",
    "    \"\"\"Make sure the mirnas are from a different seed family\"\"\"\n",
    "    pos = pd.read_csv(\"positive_dataset.txt\", sep=\"\\t\")\n",
    "    neg = pd.read_csv(\"negative_dataset_keep.txt\", sep=\"\\t\")\n",
    "     \n",
    "    count=0\n",
    "    for idx, row in neg.iterrows():\n",
    "        pos_pair = pos[pos[\"mRNA_seq_extended\"]==row[\"mRNA_seq_extended\"]]\n",
    "        if (neg.iloc[idx][\"seed_family\"] in pos_pair[\"seed_family\"].tolist()) or (row[\"mirna_seq\"] in pos_pair[\"mirna_seq\"].tolist()):\n",
    "#             print(pos[pos[\"mRNA_seq_extended\"]==row[\"mRNA_seq_extended\"]], row[\"mRNA_seq_extended\"])\n",
    "            count += 1\n",
    "            print(row[\"seed_family\"], pos_pair[\"seed_family\"].tolist())\n",
    "            print(idx)\n",
    "    print(count)"
   ]
  },
  {
   "cell_type": "code",
   "execution_count": 25,
   "id": "d04a3cd9",
   "metadata": {},
   "outputs": [
    {
     "name": "stdout",
     "output_type": "stream",
     "text": [
      "let-7c ['let-7a', 'let-7c']\n",
      "125\n",
      "1\n"
     ]
    }
   ],
   "source": [
    "checkNegDataset()"
   ]
  },
  {
   "cell_type": "code",
   "execution_count": null,
   "id": "500c80f0",
   "metadata": {},
   "outputs": [],
   "source": []
  }
 ],
 "metadata": {
  "kernelspec": {
   "display_name": "Python 3 (ipykernel)",
   "language": "python",
   "name": "python3"
  },
  "language_info": {
   "codemirror_mode": {
    "name": "ipython",
    "version": 3
   },
   "file_extension": ".py",
   "mimetype": "text/x-python",
   "name": "python",
   "nbconvert_exporter": "python",
   "pygments_lexer": "ipython3",
   "version": "3.9.12"
  }
 },
 "nbformat": 4,
 "nbformat_minor": 5
}
